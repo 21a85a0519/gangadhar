{
 "cells": [
  {
   "cell_type": "markdown",
   "metadata": {},
   "source": [
    "### file handling\n",
    "- file:file is a named location or memory used to store relative information\n",
    "- .csv,.py,.html,.ipynb,.mb4\n",
    "- filehandling:it allows user to handle files\n",
    "- compared to other languages programming in file handling is easy in python\n",
    "- read and write files.along with the otherfile handling options to work on file \n",
    "- steps of the handling\n",
    "   - open file\n",
    "  - doing operations\n",
    "  - close a file\n",
    "- open functions()\n",
    "  - we use open fun() in python to open the file in read and write \n",
    "   - To return a object we use in open function()along 2 arguments that accepts the filename and mode whether read or write\n",
    "   - syntax:::open(filename.mode)\n",
    "- modes are three types to open a file\n",
    " - read() ---'r'--->to read a file\n",
    "    - file_variable.read(size)\n",
    "-write()--'w'-->to write a file\n",
    "   - file_variable.write(data)\n",
    "- apend()--'a'-->to add a information to a file\n",
    "   - file_variable'append(data)\n",
    "- by defult the file will open as 'r' mode\n",
    "- close()\n",
    "   - it is used to close a file\n",
    "   - every time you have to close a file at the end of the\n",
    "operation.otherwise the changes wil not be applicable."
   ]
  },
  {
   "cell_type": "code",
   "execution_count": 2,
   "metadata": {},
   "outputs": [
    {
     "name": "stdout",
     "output_type": "stream",
     "text": [
      "succussfully open file\n"
     ]
    }
   ],
   "source": [
    "f=open(\"data.txt\",'r')\n",
    "if f:\n",
    "    print(\"succussfully open file\")\n",
    "else:\n",
    "    print(\"not succussfully open file\")\n",
    "    "
   ]
  },
  {
   "cell_type": "code",
   "execution_count": 3,
   "metadata": {},
   "outputs": [
    {
     "name": "stdout",
     "output_type": "stream",
     "text": [
      "Good morning welcome vasavi students\n"
     ]
    }
   ],
   "source": [
    "# read\n",
    "f=open(\"data.txt\")\n",
    "print(f.read())\n",
    "f.close()"
   ]
  },
  {
   "cell_type": "code",
   "execution_count": 4,
   "metadata": {},
   "outputs": [
    {
     "name": "stdout",
     "output_type": "stream",
     "text": [
      "Good morning welcome vasavi students\n"
     ]
    }
   ],
   "source": [
    "# using with keyword automaticaliy fill wil be\n",
    "with open(\"data.txt\")as n:\n",
    "    x=n.read()\n",
    "    print(x)"
   ]
  },
  {
   "cell_type": "code",
   "execution_count": 6,
   "metadata": {},
   "outputs": [
    {
     "name": "stdout",
     "output_type": "stream",
     "text": [
      "21\n"
     ]
    }
   ],
   "source": [
    "f=open(\"data.txt\",'w')\n",
    "fr=f.write(\"python workshop class\")\n",
    "print(fr)\n",
    "f.close()"
   ]
  },
  {
   "cell_type": "code",
   "execution_count": null,
   "metadata": {},
   "outputs": [],
   "source": [
    "### file handling methods\n",
    "   - open\n",
    "   - read\n",
    "   - write\n",
    "   - close\n",
    "   - readline()\n",
    "    - readlines()\n",
    "    - seek()\n",
    "    - tell()\n",
    "    - types of modes:\n",
    "        -read()--'r'\n",
    "        -write()--'w'\n",
    "        - append()--'a'"
   ]
  },
  {
   "cell_type": "code",
   "execution_count": 7,
   "metadata": {},
   "outputs": [],
   "source": [
    "f=open(\"data.txt\")"
   ]
  },
  {
   "cell_type": "code",
   "execution_count": 8,
   "metadata": {},
   "outputs": [],
   "source": [
    "info=f.read(6)"
   ]
  },
  {
   "cell_type": "code",
   "execution_count": 9,
   "metadata": {},
   "outputs": [
    {
     "name": "stdout",
     "output_type": "stream",
     "text": [
      "python\n"
     ]
    }
   ],
   "source": [
    "print(info)"
   ]
  },
  {
   "cell_type": "code",
   "execution_count": 11,
   "metadata": {},
   "outputs": [],
   "source": [
    "d=f.read()"
   ]
  },
  {
   "cell_type": "code",
   "execution_count": 12,
   "metadata": {},
   "outputs": [
    {
     "name": "stdout",
     "output_type": "stream",
     "text": [
      " workshop class\n"
     ]
    }
   ],
   "source": [
    "print(d)"
   ]
  },
  {
   "cell_type": "code",
   "execution_count": 13,
   "metadata": {},
   "outputs": [],
   "source": [
    "f.close()"
   ]
  },
  {
   "cell_type": "code",
   "execution_count": null,
   "metadata": {},
   "outputs": [],
   "source": [
    "# write mode()\n",
    "# it is used to write something in file\n",
    "# if file is not their directory\n",
    "# the file will be created and data will be written"
   ]
  },
  {
   "cell_type": "code",
   "execution_count": 1,
   "metadata": {},
   "outputs": [],
   "source": [
    "fo=open(\"data.txt\",'w')"
   ]
  },
  {
   "cell_type": "code",
   "execution_count": 2,
   "metadata": {},
   "outputs": [
    {
     "name": "stdout",
     "output_type": "stream",
     "text": [
      "<_io.TextIOWrapper name='data.txt' mode='w' encoding='cp1252'>\n"
     ]
    }
   ],
   "source": [
    "fo.write(\"good bye\")\n",
    "print(fo)"
   ]
  },
  {
   "cell_type": "code",
   "execution_count": 1,
   "metadata": {},
   "outputs": [],
   "source": [
    "f=open(\"data.txt\",'a')\n",
    "f.write(\" abc def ghi jkl mnop\")\n",
    "print(f)"
   ]
  },
  {
   "cell_type": "code",
   "execution_count": 1,
   "metadata": {},
   "outputs": [
    {
     "name": "stdout",
     "output_type": "stream",
     "text": [
      "good bye ghi jkl mnop abc def ghi jkl mnop\n",
      "\n"
     ]
    }
   ],
   "source": [
    "f=open(\"data.txt\",'r')\n",
    "s=f.readline()\n",
    "print(s)\n",
    "t=f.readline()\n",
    "print(t)"
   ]
  },
  {
   "cell_type": "code",
   "execution_count": 4,
   "metadata": {},
   "outputs": [
    {
     "name": "stdout",
     "output_type": "stream",
     "text": [
      "number of lines in the files: 1\n"
     ]
    }
   ],
   "source": [
    "# no of lines in given file \n",
    "with open(\"data.txt\",'r') as f:\n",
    "    no_of_lines=f.readlines()\n",
    "    print(\"number of lines in the files:\",len(no_of_lines))"
   ]
  },
  {
   "cell_type": "code",
   "execution_count": null,
   "metadata": {},
   "outputs": [],
   "source": [
    "words=0\n",
    "for line in no_of_lines:\n",
    "    words_list=line.split()\n",
    "    words+=len(wor)"
   ]
  }
 ],
 "metadata": {
  "kernelspec": {
   "display_name": "Python 3",
   "language": "python",
   "name": "python3"
  },
  "language_info": {
   "codemirror_mode": {
    "name": "ipython",
    "version": 3
   },
   "file_extension": ".py",
   "mimetype": "text/x-python",
   "name": "python",
   "nbconvert_exporter": "python",
   "pygments_lexer": "ipython3",
   "version": "3.8.5"
  }
 },
 "nbformat": 4,
 "nbformat_minor": 4
}
