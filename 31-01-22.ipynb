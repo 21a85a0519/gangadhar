{
 "cells": [
  {
   "cell_type": "markdown",
   "metadata": {},
   "source": [
    "print(\"ganga\")  \n",
    "\n",
    "# vasavi \n",
    "## vasavi\n",
    "### vasavi\n",
    "#### vasavi\n",
    "##### vasavi\n",
    "###### vasavi\n",
    "\n"
   ]
  },
  {
   "cell_type": "markdown",
   "metadata": {},
   "source": [
    "# vasavi"
   ]
  },
  {
   "cell_type": "markdown",
   "metadata": {},
   "source": [
    "btechgyuhi hugyguy.  \n",
    "vfgtfvhtjhjkjb.  \n",
    "gyvhbgykiukj.  "
   ]
  },
  {
   "cell_type": "markdown",
   "metadata": {},
   "source": [
    "### unorder list and sub list"
   ]
  },
  {
   "cell_type": "markdown",
   "metadata": {},
   "source": [
    " + one  \n",
    " - two  \n",
    " + three  \n",
    " * four  \n",
    "      + five  \n",
    "      - six  \n",
    "      * seven  \n",
    "        + eight  \n",
    "        - nine  \n",
    "        * zero\n",
    "            "
   ]
  },
  {
   "cell_type": "markdown",
   "metadata": {},
   "source": [
    "### order list and sub list"
   ]
  },
  {
   "cell_type": "markdown",
   "metadata": {},
   "source": [
    "1. one  \n",
    "2. two  \n",
    "3. three  \n",
    "    4. eight  \n",
    "    5. nine  \n",
    "    6. ten  \n",
    "        7. six  \n",
    "        8. five  \n",
    "        9. order list "
   ]
  },
  {
   "cell_type": "markdown",
   "metadata": {},
   "source": [
    "### comments  \n",
    "- user readable iformation or data.  \n",
    "- coment doesnot exicute.  \n",
    "- for muliple line coment mention in the format of''''."
   ]
  },
  {
   "cell_type": "markdown",
   "metadata": {},
   "source": []
  },
  {
   "cell_type": "markdown",
   "metadata": {},
   "source": []
  },
  {
   "cell_type": "markdown",
   "metadata": {},
   "source": [
    "### variable \n",
    "- which is used t storing data \n",
    "- variable starts with character,underscore \n",
    "- variable couldnot start with number special symboal keyboard "
   ]
  },
  {
   "cell_type": "markdown",
   "metadata": {},
   "source": [
    " ### datatypes \n",
    " - int(all integer valu)\n",
    " - float(integer with decimal points)\n",
    " - str(combination of characters or groupe of characters)\n",
    " - complex(number with real and imaginary part)\n",
    " - boolean(true,false)\n",
    " "
   ]
  },
  {
   "cell_type": "markdown",
   "metadata": {},
   "source": []
  },
  {
   "cell_type": "markdown",
   "metadata": {},
   "source": []
  },
  {
   "cell_type": "code",
   "execution_count": 6,
   "metadata": {},
   "outputs": [],
   "source": [
    " a=765\n",
    " b=21.12\n",
    " c=\"hai\"\n",
    " d='p'\n",
    " e=1+2j\n",
    " f='1+2j'\n",
    " g=True\n"
   ]
  },
  {
   "cell_type": "code",
   "execution_count": 7,
   "metadata": {},
   "outputs": [
    {
     "name": "stdout",
     "output_type": "stream",
     "text": [
      "<class 'int'>\n",
      "<class 'float'>\n",
      "<class 'str'>\n",
      "<class 'str'>\n",
      "<class 'complex'>\n",
      "<class 'str'>\n",
      "<class 'bool'>\n"
     ]
    }
   ],
   "source": [
    "print(type(a))\n",
    "print(type(b))\n",
    "print(type(c))\n",
    "print(type(d))\n",
    "print(type(e))\n",
    "print(type(f))\n",
    "print(type(g))\n",
    "\n"
   ]
  },
  {
   "cell_type": "markdown",
   "metadata": {},
   "source": [
    "### typecasting\n",
    "- which converts data from one datatype another datatype \n"
   ]
  },
  {
   "cell_type": "code",
   "execution_count": 9,
   "metadata": {},
   "outputs": [
    {
     "name": "stdout",
     "output_type": "stream",
     "text": [
      "<class 'int'>\n"
     ]
    }
   ],
   "source": [
    "val=458\n",
    "print(type(val))\n"
   ]
  },
  {
   "cell_type": "code",
   "execution_count": 10,
   "metadata": {},
   "outputs": [
    {
     "name": "stdout",
     "output_type": "stream",
     "text": [
      "<class 'str'>\n",
      "458\n"
     ]
    }
   ],
   "source": [
    "z=str(val)\n",
    "print(type(z))\n",
    "print(z)"
   ]
  },
  {
   "cell_type": "code",
   "execution_count": 11,
   "metadata": {},
   "outputs": [
    {
     "name": "stdout",
     "output_type": "stream",
     "text": [
      "<class 'float'>\n",
      "458.0\n"
     ]
    }
   ],
   "source": [
    "z=float(val)\n",
    "print(type(z))\n",
    "print(z)"
   ]
  },
  {
   "cell_type": "code",
   "execution_count": 12,
   "metadata": {},
   "outputs": [
    {
     "name": "stdout",
     "output_type": "stream",
     "text": [
      "<class 'complex'>\n",
      "(458+0j)\n"
     ]
    }
   ],
   "source": [
    "z=complex(val)\n",
    "print(type(z))\n",
    "print(z)"
   ]
  },
  {
   "cell_type": "code",
   "execution_count": 14,
   "metadata": {},
   "outputs": [
    {
     "name": "stdout",
     "output_type": "stream",
     "text": [
      "<class 'str'>\n",
      "458\n"
     ]
    }
   ],
   "source": [
    "z=str(val)\n",
    "print(type(z))\n",
    "print(z)"
   ]
  },
  {
   "cell_type": "code",
   "execution_count": 15,
   "metadata": {},
   "outputs": [
    {
     "name": "stdout",
     "output_type": "stream",
     "text": [
      "<class 'int'>\n",
      "12344567\n"
     ]
    }
   ],
   "source": [
    "abc=\"12344567\"\n",
    "z=int(abc)\n",
    "print(type(z))\n",
    "print(z)"
   ]
  },
  {
   "cell_type": "code",
   "execution_count": 16,
   "metadata": {},
   "outputs": [
    {
     "name": "stdout",
     "output_type": "stream",
     "text": [
      "<class 'float'>\n",
      "12344567.0\n"
     ]
    }
   ],
   "source": [
    "abc=\"12344567\"\n",
    "z=float(abc)\n",
    "print(type(z))\n",
    "print(z)"
   ]
  },
  {
   "cell_type": "code",
   "execution_count": 17,
   "metadata": {},
   "outputs": [
    {
     "name": "stdout",
     "output_type": "stream",
     "text": [
      "<class 'complex'>\n",
      "(12344567+0j)\n"
     ]
    }
   ],
   "source": [
    "abc=\"12344567\"\n",
    "z=complex(abc)\n",
    "print(type(z))\n",
    "print(z)"
   ]
  },
  {
   "cell_type": "code",
   "execution_count": null,
   "metadata": {},
   "outputs": [],
   "source": []
  }
 ],
 "metadata": {
  "kernelspec": {
   "display_name": "Python 3",
   "language": "python",
   "name": "python3"
  },
  "language_info": {
   "codemirror_mode": {
    "name": "ipython",
    "version": 3
   },
   "file_extension": ".py",
   "mimetype": "text/x-python",
   "name": "python",
   "nbconvert_exporter": "python",
   "pygments_lexer": "ipython3",
   "version": "3.8.5"
  }
 },
 "nbformat": 4,
 "nbformat_minor": 4
}
