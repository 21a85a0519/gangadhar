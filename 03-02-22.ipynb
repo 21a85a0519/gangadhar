{
 "cells": [
  {
   "cell_type": "markdown",
   "metadata": {},
   "source": [
    "### day 3"
   ]
  },
  {
   "cell_type": "markdown",
   "metadata": {},
   "source": [
    "### while\n",
    "- it excutes block or set of instructions until condition is false\n",
    "- while we didn't know the range\n",
    "- execute faster than for loop\n",
    "- user incrementation"
   ]
  },
  {
   "cell_type": "code",
   "execution_count": null,
   "metadata": {},
   "outputs": [],
   "source": [
    "# while syntax\n",
    "initilization\n",
    "while condition:\n",
    "    statements\n",
    "    increment/decerment"
   ]
  },
  {
   "cell_type": "code",
   "execution_count": 1,
   "metadata": {},
   "outputs": [
    {
     "name": "stdout",
     "output_type": "stream",
     "text": [
      "svec\n",
      "svec\n",
      "svec\n",
      "svec\n",
      "svec\n"
     ]
    }
   ],
   "source": [
    "n=1\n",
    "while n<=5:\n",
    "    print(\"svec\")\n",
    "    n=n+1"
   ]
  },
  {
   "cell_type": "code",
   "execution_count": 3,
   "metadata": {},
   "outputs": [
    {
     "name": "stdout",
     "output_type": "stream",
     "text": [
      "10 9 8 7 6 5 4 3 2 1 "
     ]
    }
   ],
   "source": [
    "n=10\n",
    "while n>=1:\n",
    "    print(n,end=\" \")\n",
    "    n=n-1"
   ]
  },
  {
   "cell_type": "code",
   "execution_count": 6,
   "metadata": {},
   "outputs": [
    {
     "name": "stdout",
     "output_type": "stream",
     "text": [
      "12345687\n",
      "\n",
      " digit count: 8\n"
     ]
    }
   ],
   "source": [
    "# i/p 1234\n",
    "# o/p digit count:4\n",
    "s=int(input())\n",
    "c=0\n",
    "while(s!=0):#1234!=0 123!=0 12!=0 1!=0\n",
    "    c=c+1 #1234%10 123%10\n",
    "    s=s//10\n",
    "print(\"\\n digit count:\",c)    "
   ]
  },
  {
   "cell_type": "code",
   "execution_count": 10,
   "metadata": {},
   "outputs": [
    {
     "name": "stdout",
     "output_type": "stream",
     "text": [
      "212\n",
      "palindrome\n"
     ]
    }
   ],
   "source": [
    "# check the given is palindrome or not\n",
    "# 121--121\n",
    "#mom--mom\n",
    "n=int(input())\n",
    "temp=n\n",
    "rev=0\n",
    "while(n!=0):\n",
    "    rem=n%10\n",
    "    rev=rev*10+rem\n",
    "    n=n//10\n",
    "if(temp==rev):\n",
    "    print(\"palindrome\")\n",
    "else:\n",
    "    print(\"not palindrome\")\n",
    "    \n",
    "    \n"
   ]
  },
  {
   "cell_type": "code",
   "execution_count": null,
   "metadata": {},
   "outputs": [],
   "source": [
    "#syntax:: nested for loop\n",
    "for iter in range(start,end,step):\n",
    "    for iter in range(start,end,step):\n",
    "    statement1\n",
    "    statementn"
   ]
  },
  {
   "cell_type": "code",
   "execution_count": null,
   "metadata": {},
   "outputs": [],
   "source": [
    "# mateix format\n",
    "- rows,columes\n",
    "- 2 dimensions\n",
    "    1 2 3\n",
    "    1 2 3\n",
    "    "
   ]
  },
  {
   "cell_type": "code",
   "execution_count": 23,
   "metadata": {},
   "outputs": [
    {
     "name": "stdout",
     "output_type": "stream",
     "text": [
      "*$ *$ *$ *$ \n",
      "*$ *$ *$ *$ \n",
      "*$ *$ *$ *$ \n",
      "*$ *$ *$ *$ \n"
     ]
    }
   ],
   "source": [
    "for row in range(1,5):\n",
    "    for colume in range(1,5):\n",
    "        print(\"*$\",end=\" \")\n",
    "    print()# new line"
   ]
  },
  {
   "cell_type": "code",
   "execution_count": 21,
   "metadata": {},
   "outputs": [
    {
     "name": "stdout",
     "output_type": "stream",
     "text": [
      "1 1 1 \n",
      "2 2 2 \n",
      "3 3 3 \n"
     ]
    }
   ],
   "source": [
    "for row in range(1,4):\n",
    "    for colume in range(1,4):\n",
    "        print(row,end=\" \")\n",
    "    print()# new line"
   ]
  },
  {
   "cell_type": "code",
   "execution_count": 24,
   "metadata": {},
   "outputs": [
    {
     "name": "stdout",
     "output_type": "stream",
     "text": [
      "* \n",
      "* * \n",
      "* * * \n",
      "* * * * \n",
      "* * * * * \n"
     ]
    }
   ],
   "source": [
    "for row in range(1,6):\n",
    "    for colume in range(1,row+1):\n",
    "        print(\"*\",end=\" \")\n",
    "    print()# new line"
   ]
  },
  {
   "cell_type": "code",
   "execution_count": 26,
   "metadata": {},
   "outputs": [
    {
     "name": "stdout",
     "output_type": "stream",
     "text": [
      "*$ *$ *$ *$ *$ *$ \n",
      "*$ *$ *$ *$ *$ \n",
      "*$ *$ *$ *$ \n",
      "*$ *$ *$ \n",
      "*$ *$ \n",
      "*$ \n"
     ]
    }
   ],
   "source": [
    "for row in range(6,0,-1):\n",
    "    for colume in range(1,row+1):\n",
    "        print(\"*$\",end=\" \")\n",
    "    print()# new line"
   ]
  },
  {
   "cell_type": "code",
   "execution_count": 30,
   "metadata": {},
   "outputs": [
    {
     "name": "stdout",
     "output_type": "stream",
     "text": [
      "*! \n",
      "*! *! \n",
      "*! *! *! \n",
      "*! *! *! *! \n",
      "*! *! *! *! *! \n",
      "*! *! *! *! *! *! \n",
      "*! *! *! *! *! \n",
      "*! *! *! *! \n",
      "*! *! *! \n",
      "*! *! \n",
      "*! \n"
     ]
    }
   ],
   "source": [
    "for row in range(1,6):\n",
    "    for colume in range(1,row+1):\n",
    "        print(\"*!\",end=\" \")\n",
    "    print()# new line\n",
    "for row in range(6,0,-1):\n",
    "    for colume in range(1,row+1):\n",
    "        print(\"*!\",end=\" \")\n",
    "    print()# new line\n",
    "    "
   ]
  },
  {
   "cell_type": "code",
   "execution_count": 42,
   "metadata": {},
   "outputs": [
    {
     "name": "stdout",
     "output_type": "stream",
     "text": [
      "1\n",
      "10\n",
      "2 3 5 7 "
     ]
    }
   ],
   "source": [
    "# 1 to 10\n",
    "# prime numbers:2,3,5,7\n",
    "st=int(input())\n",
    "ed=int(input())\n",
    "for num in range(st,ed+1):\n",
    "    c=0\n",
    "    for var in range(1,num+1):\n",
    "        if (num%var==0):\n",
    "            c+=1 # factors\n",
    "    if(c==2):\n",
    "        print(num,end=\" \")\n",
    "\n",
    "    \n",
    "  \n"
   ]
  },
  {
   "cell_type": "code",
   "execution_count": 46,
   "metadata": {},
   "outputs": [
    {
     "name": "stdout",
     "output_type": "stream",
     "text": [
      "1 * 1 * 1\n",
      "1 * 2 * 2\n",
      "1 * 3 * 3\n",
      "1 * 4 * 4\n",
      "1 * 5 * 5\n",
      "1 * 6 * 6\n",
      "1 * 7 * 7\n",
      "1 * 8 * 8\n",
      "1 * 9 * 9\n",
      "1 * 10 * 10\n",
      "2 * 1 * 2\n",
      "2 * 2 * 4\n",
      "2 * 3 * 6\n",
      "2 * 4 * 8\n",
      "2 * 5 * 10\n",
      "2 * 6 * 12\n",
      "2 * 7 * 14\n",
      "2 * 8 * 16\n",
      "2 * 9 * 18\n",
      "2 * 10 * 20\n",
      "3 * 1 * 3\n",
      "3 * 2 * 6\n",
      "3 * 3 * 9\n",
      "3 * 4 * 12\n",
      "3 * 5 * 15\n",
      "3 * 6 * 18\n",
      "3 * 7 * 21\n",
      "3 * 8 * 24\n",
      "3 * 9 * 27\n",
      "3 * 10 * 30\n",
      "4 * 1 * 4\n",
      "4 * 2 * 8\n",
      "4 * 3 * 12\n",
      "4 * 4 * 16\n",
      "4 * 5 * 20\n",
      "4 * 6 * 24\n",
      "4 * 7 * 28\n",
      "4 * 8 * 32\n",
      "4 * 9 * 36\n",
      "4 * 10 * 40\n",
      "5 * 1 * 5\n",
      "5 * 2 * 10\n",
      "5 * 3 * 15\n",
      "5 * 4 * 20\n",
      "5 * 5 * 25\n",
      "5 * 6 * 30\n",
      "5 * 7 * 35\n",
      "5 * 8 * 40\n",
      "5 * 9 * 45\n",
      "5 * 10 * 50\n",
      "6 * 1 * 6\n",
      "6 * 2 * 12\n",
      "6 * 3 * 18\n",
      "6 * 4 * 24\n",
      "6 * 5 * 30\n",
      "6 * 6 * 36\n",
      "6 * 7 * 42\n",
      "6 * 8 * 48\n",
      "6 * 9 * 54\n",
      "6 * 10 * 60\n",
      "7 * 1 * 7\n",
      "7 * 2 * 14\n",
      "7 * 3 * 21\n",
      "7 * 4 * 28\n",
      "7 * 5 * 35\n",
      "7 * 6 * 42\n",
      "7 * 7 * 49\n",
      "7 * 8 * 56\n",
      "7 * 9 * 63\n",
      "7 * 10 * 70\n",
      "8 * 1 * 8\n",
      "8 * 2 * 16\n",
      "8 * 3 * 24\n",
      "8 * 4 * 32\n",
      "8 * 5 * 40\n",
      "8 * 6 * 48\n",
      "8 * 7 * 56\n",
      "8 * 8 * 64\n",
      "8 * 9 * 72\n",
      "8 * 10 * 80\n",
      "9 * 1 * 9\n",
      "9 * 2 * 18\n",
      "9 * 3 * 27\n",
      "9 * 4 * 36\n",
      "9 * 5 * 45\n",
      "9 * 6 * 54\n",
      "9 * 7 * 63\n",
      "9 * 8 * 72\n",
      "9 * 9 * 81\n",
      "9 * 10 * 90\n",
      "10 * 1 * 10\n",
      "10 * 2 * 20\n",
      "10 * 3 * 30\n",
      "10 * 4 * 40\n",
      "10 * 5 * 50\n",
      "10 * 6 * 60\n",
      "10 * 7 * 70\n",
      "10 * 8 * 80\n",
      "10 * 9 * 90\n",
      "10 * 10 * 100\n"
     ]
    }
   ],
   "source": [
    "# print 1to10 table\n",
    "\n",
    "for n in range(1,11):\n",
    "    for i in range(1,11):\n",
    "        print(n,\"*\",i,\"*\",n*i)"
   ]
  },
  {
   "cell_type": "code",
   "execution_count": null,
   "metadata": {},
   "outputs": [],
   "source": [
    "# nested while\n",
    "-loop inside another loop\n"
   ]
  },
  {
   "cell_type": "code",
   "execution_count": null,
   "metadata": {},
   "outputs": [],
   "source": [
    "# syntax \n",
    "initilization\n",
    "while condition:\n",
    "    statements\n",
    "    ince/decr\n",
    "    while condition:\n",
    "        statements\n",
    "        incr/decr"
   ]
  },
  {
   "cell_type": "code",
   "execution_count": 50,
   "metadata": {},
   "outputs": [
    {
     "name": "stdout",
     "output_type": "stream",
     "text": [
      "1 * 1 = 1\n",
      "1 * 2 = 2\n",
      "1 * 3 = 3\n",
      "1 * 4 = 4\n",
      "1 * 5 = 5\n",
      "1 * 6 = 6\n",
      "1 * 7 = 7\n",
      "1 * 8 = 8\n",
      "1 * 9 = 9\n",
      "1 * 10 = 10\n",
      "\n",
      "2 * 1 = 2\n",
      "2 * 2 = 4\n",
      "2 * 3 = 6\n",
      "2 * 4 = 8\n",
      "2 * 5 = 10\n",
      "2 * 6 = 12\n",
      "2 * 7 = 14\n",
      "2 * 8 = 16\n",
      "2 * 9 = 18\n",
      "2 * 10 = 20\n",
      "\n",
      "3 * 1 = 3\n",
      "3 * 2 = 6\n",
      "3 * 3 = 9\n",
      "3 * 4 = 12\n",
      "3 * 5 = 15\n",
      "3 * 6 = 18\n",
      "3 * 7 = 21\n",
      "3 * 8 = 24\n",
      "3 * 9 = 27\n",
      "3 * 10 = 30\n",
      "\n",
      "4 * 1 = 4\n",
      "4 * 2 = 8\n",
      "4 * 3 = 12\n",
      "4 * 4 = 16\n",
      "4 * 5 = 20\n",
      "4 * 6 = 24\n",
      "4 * 7 = 28\n",
      "4 * 8 = 32\n",
      "4 * 9 = 36\n",
      "4 * 10 = 40\n",
      "\n",
      "5 * 1 = 5\n",
      "5 * 2 = 10\n",
      "5 * 3 = 15\n",
      "5 * 4 = 20\n",
      "5 * 5 = 25\n",
      "5 * 6 = 30\n",
      "5 * 7 = 35\n",
      "5 * 8 = 40\n",
      "5 * 9 = 45\n",
      "5 * 10 = 50\n",
      "\n",
      "6 * 1 = 6\n",
      "6 * 2 = 12\n",
      "6 * 3 = 18\n",
      "6 * 4 = 24\n",
      "6 * 5 = 30\n",
      "6 * 6 = 36\n",
      "6 * 7 = 42\n",
      "6 * 8 = 48\n",
      "6 * 9 = 54\n",
      "6 * 10 = 60\n",
      "\n",
      "7 * 1 = 7\n",
      "7 * 2 = 14\n",
      "7 * 3 = 21\n",
      "7 * 4 = 28\n",
      "7 * 5 = 35\n",
      "7 * 6 = 42\n",
      "7 * 7 = 49\n",
      "7 * 8 = 56\n",
      "7 * 9 = 63\n",
      "7 * 10 = 70\n",
      "\n",
      "8 * 1 = 8\n",
      "8 * 2 = 16\n",
      "8 * 3 = 24\n",
      "8 * 4 = 32\n",
      "8 * 5 = 40\n",
      "8 * 6 = 48\n",
      "8 * 7 = 56\n",
      "8 * 8 = 64\n",
      "8 * 9 = 72\n",
      "8 * 10 = 80\n",
      "\n",
      "9 * 1 = 9\n",
      "9 * 2 = 18\n",
      "9 * 3 = 27\n",
      "9 * 4 = 36\n",
      "9 * 5 = 45\n",
      "9 * 6 = 54\n",
      "9 * 7 = 63\n",
      "9 * 8 = 72\n",
      "9 * 9 = 81\n",
      "9 * 10 = 90\n",
      "\n",
      "10 * 1 = 10\n",
      "10 * 2 = 20\n",
      "10 * 3 = 30\n",
      "10 * 4 = 40\n",
      "10 * 5 = 50\n",
      "10 * 6 = 60\n",
      "10 * 7 = 70\n",
      "10 * 8 = 80\n",
      "10 * 9 = 90\n",
      "10 * 10 = 100\n",
      "\n"
     ]
    }
   ],
   "source": [
    "# print 1 to 10 table use nested while\n",
    "i=1\n",
    "while(i<=10):\n",
    "    j=1\n",
    "    while j<=10:\n",
    "        print(i,\"*\",j,\"=\",i*j)\n",
    "        j+=1\n",
    "    print()\n",
    "    i+=1"
   ]
  },
  {
   "cell_type": "markdown",
   "metadata": {},
   "source": [
    "### jump statements\n",
    "- we called as unconditional insibe jump statements\n",
    "- break\n",
    "- continue\n",
    "- pass"
   ]
  },
  {
   "cell_type": "markdown",
   "metadata": {},
   "source": [
    "### Break\n",
    "- terminates the current loop statement\n",
    "- Break is a keywords"
   ]
  },
  {
   "cell_type": "code",
   "execution_count": 52,
   "metadata": {},
   "outputs": [
    {
     "name": "stdout",
     "output_type": "stream",
     "text": [
      "p\n",
      "y\n",
      "t\n"
     ]
    }
   ],
   "source": [
    "for i in \"python\":\n",
    "    if i=='h':\n",
    "        break\n",
    "    print(i)"
   ]
  },
  {
   "cell_type": "code",
   "execution_count": 58,
   "metadata": {},
   "outputs": [
    {
     "name": "stdout",
     "output_type": "stream",
     "text": [
      "1\n",
      "2\n",
      "3\n",
      "4\n",
      "5\n"
     ]
    }
   ],
   "source": [
    "i=0\n",
    "while(i<=10):\n",
    "    i+=1\n",
    "    if i==6:\n",
    "        break\n",
    "    print(i)\n",
    "    \n",
    "    \n",
    "    \n",
    "    \n",
    "   \n",
    "   "
   ]
  },
  {
   "cell_type": "markdown",
   "metadata": {},
   "source": [
    "### continue\n",
    "- its skips only current iteration and continue the next iteration\n",
    "- continue is also keyword"
   ]
  },
  {
   "cell_type": "code",
   "execution_count": 61,
   "metadata": {},
   "outputs": [
    {
     "name": "stdout",
     "output_type": "stream",
     "text": [
      "0\n",
      "1\n",
      "2\n",
      "3\n",
      "4\n",
      "5\n",
      "7\n",
      "8\n",
      "9\n"
     ]
    }
   ],
   "source": [
    "for i in range(10):\n",
    "    if i==6:\n",
    "        continue\n",
    "        prinf(\"abc\")\n",
    "    print(i)"
   ]
  },
  {
   "cell_type": "code",
   "execution_count": 63,
   "metadata": {},
   "outputs": [
    {
     "name": "stdout",
     "output_type": "stream",
     "text": [
      "1 3 5 7 9 "
     ]
    }
   ],
   "source": [
    "# print odd numbers using even numbers conditions using continus\n",
    "for i in range(1,10):\n",
    "    if i%2==0:\n",
    "        continue\n",
    "    print(i,end=\" \")   "
   ]
  },
  {
   "cell_type": "markdown",
   "metadata": {},
   "source": [
    "### pass\n",
    "- it is a keyword\n",
    "- when we need condition scientifically correct need to change  another operation\n",
    "- it is null operation\n",
    "- pass statement we use to create empty classes also"
   ]
  },
  {
   "cell_type": "code",
   "execution_count": 66,
   "metadata": {},
   "outputs": [
    {
     "name": "stdout",
     "output_type": "stream",
     "text": [
      "s\n",
      "v\n",
      "pass exicuted\n",
      "e\n",
      "c\n"
     ]
    }
   ],
   "source": [
    "s=\"svec\"\n",
    "for i in s:\n",
    "    if i=='e':\n",
    "        pass\n",
    "        print(\"pass exicuted\")\n",
    "    print(i)\n",
    "    \n",
    "    "
   ]
  },
  {
   "cell_type": "markdown",
   "metadata": {},
   "source": [
    "### string\n",
    "- string is grupe of characters\n",
    "- string is a derived datatype and immutable\n",
    "- all string return new values "
   ]
  },
  {
   "cell_type": "code",
   "execution_count": 1,
   "metadata": {},
   "outputs": [
    {
     "name": "stdout",
     "output_type": "stream",
     "text": [
      "<class 'str'>\n"
     ]
    }
   ],
   "source": [
    "a=\"vasavicollage\"\n",
    "print(type(a))"
   ]
  },
  {
   "cell_type": "code",
   "execution_count": 2,
   "metadata": {},
   "outputs": [
    {
     "name": "stdout",
     "output_type": "stream",
     "text": [
      "13\n"
     ]
    }
   ],
   "source": [
    "print(len(a))"
   ]
  },
  {
   "cell_type": "code",
   "execution_count": 3,
   "metadata": {},
   "outputs": [
    {
     "name": "stdout",
     "output_type": "stream",
     "text": [
      "a\n",
      "v\n",
      "['a', 'a', 'a', 'c', 'e', 'g', 'i', 'l', 'l', 'o', 's', 'v', 'v']\n"
     ]
    }
   ],
   "source": [
    "print(min(a))\n",
    "print(max(a))\n",
    "print(sorted(a))\n",
    "#print(sum(a))"
   ]
  },
  {
   "cell_type": "code",
   "execution_count": 4,
   "metadata": {},
   "outputs": [
    {
     "name": "stdout",
     "output_type": "stream",
     "text": [
      "pythonworkshop\n",
      "python workshop\n"
     ]
    },
    {
     "ename": "TypeError",
     "evalue": "can't multiply sequence by non-int of type 'str'",
     "output_type": "error",
     "traceback": [
      "\u001b[1;31m---------------------------------------------------------------------------\u001b[0m",
      "\u001b[1;31mTypeError\u001b[0m                                 Traceback (most recent call last)",
      "\u001b[1;32m<ipython-input-4-ae2de2ec53ff>\u001b[0m in \u001b[0;36m<module>\u001b[1;34m\u001b[0m\n\u001b[0;32m      3\u001b[0m \u001b[0mprint\u001b[0m\u001b[1;33m(\u001b[0m\u001b[0ms\u001b[0m\u001b[1;33m+\u001b[0m\u001b[0ms1\u001b[0m\u001b[1;33m)\u001b[0m\u001b[1;33m\u001b[0m\u001b[1;33m\u001b[0m\u001b[0m\n\u001b[0;32m      4\u001b[0m \u001b[0mprint\u001b[0m\u001b[1;33m(\u001b[0m\u001b[0ms\u001b[0m\u001b[1;33m,\u001b[0m\u001b[0ms1\u001b[0m\u001b[1;33m)\u001b[0m\u001b[1;33m\u001b[0m\u001b[1;33m\u001b[0m\u001b[0m\n\u001b[1;32m----> 5\u001b[1;33m \u001b[0mprint\u001b[0m\u001b[1;33m(\u001b[0m\u001b[0ms\u001b[0m\u001b[1;33m*\u001b[0m\u001b[0ms1\u001b[0m\u001b[1;33m)\u001b[0m\u001b[1;33m\u001b[0m\u001b[1;33m\u001b[0m\u001b[0m\n\u001b[0m",
      "\u001b[1;31mTypeError\u001b[0m: can't multiply sequence by non-int of type 'str'"
     ]
    }
   ],
   "source": [
    "s=\"python\"\n",
    "s1=\"workshop\"\n",
    "print(s+s1)\n",
    "print(s,s1)\n",
    "print(s*s1)"
   ]
  },
  {
   "cell_type": "code",
   "execution_count": 7,
   "metadata": {},
   "outputs": [
    {
     "name": "stdout",
     "output_type": "stream",
     "text": [
      "15\n",
      "p\n",
      "n\n",
      "p\n",
      "p\n",
      "o\n",
      "python workshop\n",
      "pohskrow nohtyp\n",
      "pyth\n",
      "n works\n",
      "so\n"
     ]
    }
   ],
   "source": [
    "# slicing syntax::(start:end:step)\n",
    "# positive indexing(left to right)\n",
    "# negative indexing(right to left)\n",
    "s=\"python workshop\"\n",
    "print(len(s))\n",
    "print(s[0])\n",
    "print(s[5])\n",
    "print(s[14])\n",
    "print(s[-1])\n",
    "print(s[-2])\n",
    "print(s[::])\n",
    "print(s[::-1])\n",
    "print(s[0:4])\n",
    "print(s[5:12])\n",
    "print(s[-4::-7])\n"
   ]
  },
  {
   "cell_type": "code",
   "execution_count": 8,
   "metadata": {},
   "outputs": [
    {
     "data": {
      "text/plain": [
       "['__add__',\n",
       " '__class__',\n",
       " '__contains__',\n",
       " '__delattr__',\n",
       " '__dir__',\n",
       " '__doc__',\n",
       " '__eq__',\n",
       " '__format__',\n",
       " '__ge__',\n",
       " '__getattribute__',\n",
       " '__getitem__',\n",
       " '__getnewargs__',\n",
       " '__gt__',\n",
       " '__hash__',\n",
       " '__init__',\n",
       " '__init_subclass__',\n",
       " '__iter__',\n",
       " '__le__',\n",
       " '__len__',\n",
       " '__lt__',\n",
       " '__mod__',\n",
       " '__mul__',\n",
       " '__ne__',\n",
       " '__new__',\n",
       " '__reduce__',\n",
       " '__reduce_ex__',\n",
       " '__repr__',\n",
       " '__rmod__',\n",
       " '__rmul__',\n",
       " '__setattr__',\n",
       " '__sizeof__',\n",
       " '__str__',\n",
       " '__subclasshook__',\n",
       " 'capitalize',\n",
       " 'casefold',\n",
       " 'center',\n",
       " 'count',\n",
       " 'encode',\n",
       " 'endswith',\n",
       " 'expandtabs',\n",
       " 'find',\n",
       " 'format',\n",
       " 'format_map',\n",
       " 'index',\n",
       " 'isalnum',\n",
       " 'isalpha',\n",
       " 'isascii',\n",
       " 'isdecimal',\n",
       " 'isdigit',\n",
       " 'isidentifier',\n",
       " 'islower',\n",
       " 'isnumeric',\n",
       " 'isprintable',\n",
       " 'isspace',\n",
       " 'istitle',\n",
       " 'isupper',\n",
       " 'join',\n",
       " 'ljust',\n",
       " 'lower',\n",
       " 'lstrip',\n",
       " 'maketrans',\n",
       " 'partition',\n",
       " 'replace',\n",
       " 'rfind',\n",
       " 'rindex',\n",
       " 'rjust',\n",
       " 'rpartition',\n",
       " 'rsplit',\n",
       " 'rstrip',\n",
       " 'split',\n",
       " 'splitlines',\n",
       " 'startswith',\n",
       " 'strip',\n",
       " 'swapcase',\n",
       " 'title',\n",
       " 'translate',\n",
       " 'upper',\n",
       " 'zfill']"
      ]
     },
     "execution_count": 8,
     "metadata": {},
     "output_type": "execute_result"
    }
   ],
   "source": [
    "dir(str)"
   ]
  },
  {
   "cell_type": "code",
   "execution_count": null,
   "metadata": {},
   "outputs": [],
   "source": []
  }
 ],
 "metadata": {
  "kernelspec": {
   "display_name": "Python 3",
   "language": "python",
   "name": "python3"
  },
  "language_info": {
   "codemirror_mode": {
    "name": "ipython",
    "version": 3
   },
   "file_extension": ".py",
   "mimetype": "text/x-python",
   "name": "python",
   "nbconvert_exporter": "python",
   "pygments_lexer": "ipython3",
   "version": "3.8.5"
  }
 },
 "nbformat": 4,
 "nbformat_minor": 4
}
